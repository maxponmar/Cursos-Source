{
 "cells": [
  {
   "cell_type": "markdown",
   "metadata": {},
   "source": [
    "# This is my Twitter App\n",
    "\n",
    "![Twitter image](https://upload.wikimedia.org/wikipedia/en/9/9f/Twitter_bird_logo_2012.svg)"
   ]
  },
  {
   "cell_type": "code",
   "execution_count": 4,
   "metadata": {},
   "outputs": [
    {
     "name": "stdout",
     "output_type": "stream",
     "text": [
      "Enter your name sir, madam: \n",
      "Max\n"
     ]
    }
   ],
   "source": [
    "print(\"Enter your name sir, madam: \")\n",
    "name = input()\n"
   ]
  },
  {
   "cell_type": "code",
   "execution_count": 5,
   "metadata": {},
   "outputs": [
    {
     "name": "stdout",
     "output_type": "stream",
     "text": [
      "Hello! Max\n"
     ]
    }
   ],
   "source": [
    "print(f\"Hello! {name}\")"
   ]
  },
  {
   "cell_type": "code",
   "execution_count": 6,
   "metadata": {},
   "outputs": [
    {
     "name": "stdout",
     "output_type": "stream",
     "text": [
      "Enter your tweet: (-1 to exit)\n",
      "Hi I'm Max\n",
      "Enter your tweet: (-1 to exit)\n",
      "Hellooo\n",
      "Enter your tweet: (-1 to exit)\n",
      "-1\n"
     ]
    }
   ],
   "source": [
    "tweets = [\"ID\", \"Tweet\"]\n",
    "tweetcount = 0\n",
    "while (True):\n",
    "    print(\"Enter your tweet: (-1 to exit)\")\n",
    "    tweet = input()\n",
    "    if (tweet == \"-1\"):\n",
    "        break\n",
    "    tweetcount = tweetcount + 1\n",
    "    tweets.append([tweetcount, tweet])\n",
    "    \n"
   ]
  },
  {
   "cell_type": "code",
   "execution_count": 7,
   "metadata": {},
   "outputs": [
    {
     "name": "stdout",
     "output_type": "stream",
     "text": [
      "ID\n",
      "Tweet\n",
      "[1, \"Hi I'm Max\"]\n",
      "[2, 'Hellooo']\n"
     ]
    }
   ],
   "source": [
    "for t in tweets:\n",
    "    print(t)"
   ]
  },
  {
   "cell_type": "code",
   "execution_count": 8,
   "metadata": {},
   "outputs": [
    {
     "name": "stdout",
     "output_type": "stream",
     "text": [
      "Defaulting to user installation because normal site-packages is not writeable\n",
      "Requirement already satisfied: tabulate in /home/max/.local/lib/python3.6/site-packages (0.8.7)\n"
     ]
    }
   ],
   "source": [
    "!pip install tabulate"
   ]
  },
  {
   "cell_type": "code",
   "execution_count": 9,
   "metadata": {},
   "outputs": [
    {
     "name": "stdout",
     "output_type": "stream",
     "text": [
      "Defaulting to user installation because normal site-packages is not writeable\n",
      "Requirement already satisfied: tabulate in /home/max/.local/lib/python3.6/site-packages (0.8.7)\n"
     ]
    }
   ],
   "source": [
    "!pip install tabulate"
   ]
  },
  {
   "cell_type": "code",
   "execution_count": 10,
   "metadata": {
    "scrolled": true
   },
   "outputs": [
    {
     "data": {
      "text/html": [
       "<table>\n",
       "<tbody>\n",
       "<tr><td>I</td><td>D         </td><td> </td><td> </td><td> </td></tr>\n",
       "<tr><td>T</td><td>w         </td><td>e</td><td>e</td><td>t</td></tr>\n",
       "<tr><td>1</td><td>Hi I&#x27;m Max</td><td> </td><td> </td><td> </td></tr>\n",
       "<tr><td>2</td><td>Hellooo   </td><td> </td><td> </td><td> </td></tr>\n",
       "</tbody>\n",
       "</table>"
      ],
      "text/plain": [
       "<IPython.core.display.HTML object>"
      ]
     },
     "metadata": {},
     "output_type": "display_data"
    }
   ],
   "source": [
    "from IPython.display import HTML, display\n",
    "import tabulate\n",
    "\n",
    "display(HTML(tabulate.tabulate(tweets, tablefmt=\"html\") ))"
   ]
  },
  {
   "cell_type": "code",
   "execution_count": null,
   "metadata": {},
   "outputs": [],
   "source": []
  }
 ],
 "metadata": {
  "kernelspec": {
   "display_name": "Python 3",
   "language": "python",
   "name": "python3"
  },
  "language_info": {
   "codemirror_mode": {
    "name": "ipython",
    "version": 3
   },
   "file_extension": ".py",
   "mimetype": "text/x-python",
   "name": "python",
   "nbconvert_exporter": "python",
   "pygments_lexer": "ipython3",
   "version": "3.6.9"
  }
 },
 "nbformat": 4,
 "nbformat_minor": 2
}
